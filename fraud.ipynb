{
 "cells": [
  {
   "cell_type": "code",
   "execution_count": 3,
   "id": "99ae25d4",
   "metadata": {},
   "outputs": [
    {
     "ename": "ModuleNotFoundError",
     "evalue": "No module named 'seaborn'",
     "output_type": "error",
     "traceback": [
      "\u001b[31m---------------------------------------------------------------------------\u001b[39m",
      "\u001b[31mModuleNotFoundError\u001b[39m                       Traceback (most recent call last)",
      "\u001b[36mCell\u001b[39m\u001b[36m \u001b[39m\u001b[32mIn[3]\u001b[39m\u001b[32m, line 4\u001b[39m\n\u001b[32m      2\u001b[39m \u001b[38;5;28;01mimport\u001b[39;00m\u001b[38;5;250m \u001b[39m\u001b[34;01mnumpy\u001b[39;00m\u001b[38;5;250m \u001b[39m\u001b[38;5;28;01mas\u001b[39;00m\u001b[38;5;250m \u001b[39m\u001b[34;01mnp\u001b[39;00m\n\u001b[32m      3\u001b[39m \u001b[38;5;28;01mimport\u001b[39;00m\u001b[38;5;250m \u001b[39m\u001b[34;01mmatplotlib\u001b[39;00m\u001b[34;01m.\u001b[39;00m\u001b[34;01mpyplot\u001b[39;00m\u001b[38;5;250m \u001b[39m\u001b[38;5;28;01mas\u001b[39;00m\u001b[38;5;250m \u001b[39m\u001b[34;01mplt\u001b[39;00m\n\u001b[32m----> \u001b[39m\u001b[32m4\u001b[39m \u001b[38;5;28;01mimport\u001b[39;00m\u001b[38;5;250m \u001b[39m\u001b[34;01mseaborn\u001b[39;00m\u001b[38;5;250m \u001b[39m\u001b[38;5;28;01mas\u001b[39;00m\u001b[38;5;250m \u001b[39m\u001b[34;01msns\u001b[39;00m\n",
      "\u001b[31mModuleNotFoundError\u001b[39m: No module named 'seaborn'"
     ]
    }
   ],
   "source": [
    "import pandas as pd\n",
    "import numpy as np\n",
    "import matplotlib.pyplot as plt\n",
    "import seaborn as sns"
   ]
  },
  {
   "cell_type": "code",
   "execution_count": null,
   "id": "e6eb7800",
   "metadata": {},
   "outputs": [],
   "source": [
    "df = pd.read_csv(\"AIML Dataset.csv\")\n",
    "df"
   ]
  },
  {
   "cell_type": "code",
   "execution_count": null,
   "id": "a6414d0a",
   "metadata": {},
   "outputs": [],
   "source": [
    "df.columns"
   ]
  },
  {
   "cell_type": "code",
   "execution_count": null,
   "id": "c8fbc88f",
   "metadata": {},
   "outputs": [],
   "source": [
    "df.describe()"
   ]
  },
  {
   "cell_type": "code",
   "execution_count": null,
   "id": "8c5789e3",
   "metadata": {},
   "outputs": [],
   "source": [
    "df.info()"
   ]
  },
  {
   "cell_type": "code",
   "execution_count": null,
   "id": "a06797d6",
   "metadata": {},
   "outputs": [],
   "source": [
    "df.isnull().sum()"
   ]
  },
  {
   "cell_type": "code",
   "execution_count": null,
   "id": "f4f90b8c",
   "metadata": {},
   "outputs": [],
   "source": [
    "df[\"type\"].value_counts()"
   ]
  },
  {
   "cell_type": "markdown",
   "id": "686aa9db",
   "metadata": {},
   "source": [
    "CASH-IN: is the process of increasing the balance of\n",
    "account by paying in cash to a merchant.\n",
    "\n",
    "CASH-OUT: is the opposite process of CASH-IN, it\n",
    "means to withdraw cash from a merchant which decreases\n",
    "the balance of the account.\n",
    "\n",
    "DEBIT: is similar process than CASH-OUT and involves sending the money from the mobile money service\n",
    "to a bank account.\n",
    "\n",
    "PAYMENT: is the process of paying for goods or services to merchants which decreases the balance of the account and increases the balance of the receiver.\n",
    "\n",
    "TRANSFER: is the process of sending money to another user of the service through the mobile money platform"
   ]
  },
  {
   "cell_type": "code",
   "execution_count": null,
   "id": "9155ca72",
   "metadata": {},
   "outputs": [],
   "source": [
    "df.columns"
   ]
  },
  {
   "cell_type": "code",
   "execution_count": null,
   "id": "ef0e0cc8",
   "metadata": {},
   "outputs": [],
   "source": [
    "df[\"isFraud\"].value_counts()"
   ]
  },
  {
   "cell_type": "markdown",
   "id": "62f4ff50",
   "metadata": {},
   "source": [
    "6354407 transaction is not Fraud  and 8213 is Fraud "
   ]
  },
  {
   "cell_type": "code",
   "execution_count": null,
   "id": "768bf6a8",
   "metadata": {},
   "outputs": [],
   "source": [
    "plt.pie(df[\"type\"].value_counts().values,labels=df[\"type\"].value_counts().index,autopct = '%1.1f%%')"
   ]
  },
  {
   "cell_type": "markdown",
   "id": "1517ed33",
   "metadata": {},
   "source": [
    "most number of transaction type is cashout with 35.2% followed by payment wirth 33.8%, cashin 22.0% ,transfer 8.4% and debit 0.7%"
   ]
  },
  {
   "cell_type": "code",
   "execution_count": null,
   "id": "387b3b4f",
   "metadata": {},
   "outputs": [],
   "source": [
    "notfrd = df[df[\"isFraud\"] == 0]\n",
    "notfrd.shape"
   ]
  },
  {
   "cell_type": "code",
   "execution_count": null,
   "id": "a536c332",
   "metadata": {},
   "outputs": [],
   "source": [
    "frd = df[df[\"isFraud\"] == 1]\n",
    "frd.shape"
   ]
  },
  {
   "cell_type": "code",
   "execution_count": null,
   "id": "a511c977",
   "metadata": {},
   "outputs": [],
   "source": [
    "label = [\"frd\",\"notfrd\"]\n",
    "count = df[\"isFraud\"].value_counts()\n",
    "value_count = [count[0],count[1]]\n",
    "plt.bar(label,value_count,color = [\"red\",\"green\"])\n",
    "plt.xlabel(\"fraud vs not fraud\")\n",
    "plt.ylabel(\"count\")\n",
    "plt.show()"
   ]
  },
  {
   "cell_type": "code",
   "execution_count": null,
   "id": "7a48730a",
   "metadata": {},
   "outputs": [],
   "source": [
    "plt.pie(df[\"isFraud\"].value_counts().values,labels=df[\"isFraud\"].value_counts().index,autopct = '%1.1f%%')"
   ]
  },
  {
   "cell_type": "markdown",
   "id": "384b3e2a",
   "metadata": {},
   "source": [
    "99.9% of transaction is not fraud but 0.1% is fraud"
   ]
  },
  {
   "cell_type": "code",
   "execution_count": null,
   "id": "c0fd8ca2",
   "metadata": {},
   "outputs": [],
   "source": [
    "df[\"amount\"].describe().astype(int)"
   ]
  },
  {
   "cell_type": "code",
   "execution_count": null,
   "id": "8f70408f",
   "metadata": {},
   "outputs": [],
   "source": [
    "sns.histplot(np.log1p(df[\"amount\"]),bins=150,kde=True,color=\"orange\")\n",
    "plt.xlabel(\"ammount\")\n",
    "plt.show()"
   ]
  },
  {
   "cell_type": "code",
   "execution_count": null,
   "id": "9147d92f",
   "metadata": {},
   "outputs": [],
   "source": [
    "sns.countplot(x=\"type\", hue=\"isFraud\", data=df, palette={0:\"green\",1:\"red\"})\n",
    "plt.xlabel(\"Transaction Type\")\n",
    "plt.ylabel(\"Number of Transactions\")\n",
    "plt.title(\"Fraud vs Not Fraud Transactions by Type\")\n",
    "plt.legend(title=\"Fraud\", labels=[\"Not Fraud\", \"Fraud\"])\n",
    "plt.show()"
   ]
  },
  {
   "cell_type": "code",
   "execution_count": null,
   "id": "cc712dff",
   "metadata": {},
   "outputs": [],
   "source": [
    "ndf = df.select_dtypes(include = [\"int64\",\"float64\"])"
   ]
  },
  {
   "cell_type": "code",
   "execution_count": null,
   "id": "6e294a0f",
   "metadata": {},
   "outputs": [],
   "source": [
    "sns.heatmap(ndf.corr(),annot = True,cmap = \"coolwarm\",fmt= \".2f\")\n",
    "plt.title(\"correlation\")\n",
    "plt.show()"
   ]
  },
  {
   "cell_type": "code",
   "execution_count": null,
   "id": "c90a0239",
   "metadata": {},
   "outputs": [],
   "source": [
    "df.head()"
   ]
  },
  {
   "cell_type": "code",
   "execution_count": null,
   "id": "440d640d",
   "metadata": {},
   "outputs": [],
   "source": [
    "df.drop(df[[\"step\",\"nameOrig\",\"nameDest\",\"isFlaggedFraud\"]],axis =1,inplace=True)"
   ]
  },
  {
   "cell_type": "code",
   "execution_count": null,
   "id": "d5910022",
   "metadata": {},
   "outputs": [],
   "source": [
    "df"
   ]
  },
  {
   "cell_type": "code",
   "execution_count": null,
   "id": "aeb2a4cd",
   "metadata": {},
   "outputs": [],
   "source": [
    "df[\"diff_org\"] = df[\"oldbalanceOrg\"]-df[\"newbalanceOrig\"]\n",
    "df[\"diff_dest\"] = df['newbalanceDest']-df['oldbalanceDest']"
   ]
  },
  {
   "cell_type": "code",
   "execution_count": null,
   "id": "aa3e3c11",
   "metadata": {},
   "outputs": [],
   "source": [
    "df.head()"
   ]
  },
  {
   "cell_type": "code",
   "execution_count": null,
   "id": "5d5ba931",
   "metadata": {},
   "outputs": [],
   "source": [
    "df = pd.get_dummies(df,columns=[\"type\"],drop_first=True,dtype= int)"
   ]
  },
  {
   "cell_type": "code",
   "execution_count": null,
   "id": "6c6abbe3",
   "metadata": {},
   "outputs": [],
   "source": [
    "df.head()"
   ]
  },
  {
   "cell_type": "code",
   "execution_count": null,
   "id": "0d590178",
   "metadata": {},
   "outputs": [],
   "source": [
    "df.to_csv(\"new dataset.csv\")"
   ]
  },
  {
   "cell_type": "code",
   "execution_count": null,
   "id": "978ec0b4",
   "metadata": {},
   "outputs": [],
   "source": [
    "ndf = pd.read_csv(\"new dataset.csv\")"
   ]
  },
  {
   "cell_type": "code",
   "execution_count": null,
   "id": "04b561b5",
   "metadata": {},
   "outputs": [],
   "source": [
    "ndf"
   ]
  },
  {
   "cell_type": "code",
   "execution_count": null,
   "id": "04f8e655",
   "metadata": {},
   "outputs": [],
   "source": [
    "ndf.isnull().sum()"
   ]
  },
  {
   "cell_type": "code",
   "execution_count": null,
   "id": "82674e99-18f8-4ea4-adb9-aa53a48d9cc1",
   "metadata": {},
   "outputs": [],
   "source": []
  },
  {
   "cell_type": "code",
   "execution_count": null,
   "id": "23220406-62ce-4168-bed4-e76204fe6064",
   "metadata": {},
   "outputs": [],
   "source": []
  }
 ],
 "metadata": {
  "kernelspec": {
   "display_name": "Python 3 (ipykernel)",
   "language": "python",
   "name": "python3"
  },
  "language_info": {
   "codemirror_mode": {
    "name": "ipython",
    "version": 3
   },
   "file_extension": ".py",
   "mimetype": "text/x-python",
   "name": "python",
   "nbconvert_exporter": "python",
   "pygments_lexer": "ipython3",
   "version": "3.13.0"
  }
 },
 "nbformat": 4,
 "nbformat_minor": 5
}
